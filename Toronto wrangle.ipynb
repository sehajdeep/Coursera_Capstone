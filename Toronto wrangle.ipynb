{
    "nbformat_minor": 1, 
    "cells": [
        {
            "execution_count": 2, 
            "cell_type": "code", 
            "metadata": {}, 
            "outputs": [], 
            "source": "import pandas as pd\nfrom bs4 import BeautifulSoup\nimport requests\n\nimport matplotlib.cm as cm\nimport matplotlib.colors as colors\nfrom geopy.geocoders import Nominatim"
        }, 
        {
            "execution_count": 3, 
            "cell_type": "code", 
            "metadata": {}, 
            "outputs": [], 
            "source": "url = requests.get('https://en.wikipedia.org/wiki/List_of_postal_codes_of_Canada:_M').text\nsoup = BeautifulSoup(url,'lxml')"
        }, 
        {
            "execution_count": 6, 
            "cell_type": "code", 
            "metadata": {}, 
            "outputs": [
                {
                    "execution_count": 6, 
                    "metadata": {}, 
                    "data": {
                        "text/html": "<div>\n<style scoped>\n    .dataframe tbody tr th:only-of-type {\n        vertical-align: middle;\n    }\n\n    .dataframe tbody tr th {\n        vertical-align: top;\n    }\n\n    .dataframe thead th {\n        text-align: right;\n    }\n</style>\n<table border=\"1\" class=\"dataframe\">\n  <thead>\n    <tr style=\"text-align: right;\">\n      <th></th>\n      <th>Postcode</th>\n      <th>Borough</th>\n      <th>Neighborhood</th>\n    </tr>\n  </thead>\n  <tbody>\n    <tr>\n      <th>0</th>\n      <td>M1A</td>\n      <td>Not assigned</td>\n      <td>Not assigned</td>\n    </tr>\n    <tr>\n      <th>1</th>\n      <td>M2A</td>\n      <td>Not assigned</td>\n      <td>Not assigned</td>\n    </tr>\n    <tr>\n      <th>2</th>\n      <td>M3A</td>\n      <td>North York</td>\n      <td>Parkwoods</td>\n    </tr>\n    <tr>\n      <th>3</th>\n      <td>M4A</td>\n      <td>North York</td>\n      <td>Victoria Village</td>\n    </tr>\n    <tr>\n      <th>4</th>\n      <td>M5A</td>\n      <td>Downtown Toronto</td>\n      <td>Harbourfront</td>\n    </tr>\n    <tr>\n      <th>5</th>\n      <td>M5A</td>\n      <td>Downtown Toronto</td>\n      <td>Regent Park</td>\n    </tr>\n    <tr>\n      <th>6</th>\n      <td>M6A</td>\n      <td>North York</td>\n      <td>Lawrence Heights</td>\n    </tr>\n    <tr>\n      <th>7</th>\n      <td>M6A</td>\n      <td>North York</td>\n      <td>Lawrence Manor</td>\n    </tr>\n    <tr>\n      <th>8</th>\n      <td>M7A</td>\n      <td>Queen's Park</td>\n      <td>Not assigned</td>\n    </tr>\n    <tr>\n      <th>9</th>\n      <td>M8A</td>\n      <td>Not assigned</td>\n      <td>Not assigned</td>\n    </tr>\n    <tr>\n      <th>10</th>\n      <td>M9A</td>\n      <td>Etobicoke</td>\n      <td>Islington Avenue</td>\n    </tr>\n    <tr>\n      <th>11</th>\n      <td>M1B</td>\n      <td>Scarborough</td>\n      <td>Rouge</td>\n    </tr>\n    <tr>\n      <th>12</th>\n      <td>M1B</td>\n      <td>Scarborough</td>\n      <td>Malvern</td>\n    </tr>\n    <tr>\n      <th>13</th>\n      <td>M2B</td>\n      <td>Not assigned</td>\n      <td>Not assigned</td>\n    </tr>\n    <tr>\n      <th>14</th>\n      <td>M3B</td>\n      <td>North York</td>\n      <td>Don Mills North</td>\n    </tr>\n    <tr>\n      <th>15</th>\n      <td>M4B</td>\n      <td>East York</td>\n      <td>Woodbine Gardens</td>\n    </tr>\n    <tr>\n      <th>16</th>\n      <td>M4B</td>\n      <td>East York</td>\n      <td>Parkview Hill</td>\n    </tr>\n    <tr>\n      <th>17</th>\n      <td>M5B</td>\n      <td>Downtown Toronto</td>\n      <td>Ryerson</td>\n    </tr>\n    <tr>\n      <th>18</th>\n      <td>M5B</td>\n      <td>Downtown Toronto</td>\n      <td>Garden District</td>\n    </tr>\n    <tr>\n      <th>19</th>\n      <td>M6B</td>\n      <td>North York</td>\n      <td>Glencairn</td>\n    </tr>\n    <tr>\n      <th>20</th>\n      <td>M7B</td>\n      <td>Not assigned</td>\n      <td>Not assigned</td>\n    </tr>\n    <tr>\n      <th>21</th>\n      <td>M8B</td>\n      <td>Not assigned</td>\n      <td>Not assigned</td>\n    </tr>\n    <tr>\n      <th>22</th>\n      <td>M9B</td>\n      <td>Etobicoke</td>\n      <td>Cloverdale</td>\n    </tr>\n    <tr>\n      <th>23</th>\n      <td>M9B</td>\n      <td>Etobicoke</td>\n      <td>Islington</td>\n    </tr>\n    <tr>\n      <th>24</th>\n      <td>M9B</td>\n      <td>Etobicoke</td>\n      <td>Martin Grove</td>\n    </tr>\n    <tr>\n      <th>25</th>\n      <td>M9B</td>\n      <td>Etobicoke</td>\n      <td>Princess Gardens</td>\n    </tr>\n    <tr>\n      <th>26</th>\n      <td>M9B</td>\n      <td>Etobicoke</td>\n      <td>West Deane Park</td>\n    </tr>\n    <tr>\n      <th>27</th>\n      <td>M1C</td>\n      <td>Scarborough</td>\n      <td>Highland Creek</td>\n    </tr>\n    <tr>\n      <th>28</th>\n      <td>M1C</td>\n      <td>Scarborough</td>\n      <td>Rouge Hill</td>\n    </tr>\n    <tr>\n      <th>29</th>\n      <td>M1C</td>\n      <td>Scarborough</td>\n      <td>Port Union</td>\n    </tr>\n    <tr>\n      <th>...</th>\n      <td>...</td>\n      <td>...</td>\n      <td>...</td>\n    </tr>\n    <tr>\n      <th>259</th>\n      <td>M9X</td>\n      <td>Not assigned</td>\n      <td>Not assigned</td>\n    </tr>\n    <tr>\n      <th>260</th>\n      <td>M1Y</td>\n      <td>Not assigned</td>\n      <td>Not assigned</td>\n    </tr>\n    <tr>\n      <th>261</th>\n      <td>M2Y</td>\n      <td>Not assigned</td>\n      <td>Not assigned</td>\n    </tr>\n    <tr>\n      <th>262</th>\n      <td>M3Y</td>\n      <td>Not assigned</td>\n      <td>Not assigned</td>\n    </tr>\n    <tr>\n      <th>263</th>\n      <td>M4Y</td>\n      <td>Downtown Toronto</td>\n      <td>Church and Wellesley</td>\n    </tr>\n    <tr>\n      <th>264</th>\n      <td>M5Y</td>\n      <td>Not assigned</td>\n      <td>Not assigned</td>\n    </tr>\n    <tr>\n      <th>265</th>\n      <td>M6Y</td>\n      <td>Not assigned</td>\n      <td>Not assigned</td>\n    </tr>\n    <tr>\n      <th>266</th>\n      <td>M7Y</td>\n      <td>East Toronto</td>\n      <td>Business reply mail Processing Centre969 Eastern</td>\n    </tr>\n    <tr>\n      <th>267</th>\n      <td>M8Y</td>\n      <td>Etobicoke</td>\n      <td>Humber Bay</td>\n    </tr>\n    <tr>\n      <th>268</th>\n      <td>M8Y</td>\n      <td>Etobicoke</td>\n      <td>King's Mill Park</td>\n    </tr>\n    <tr>\n      <th>269</th>\n      <td>M8Y</td>\n      <td>Etobicoke</td>\n      <td>Kingsway Park South East</td>\n    </tr>\n    <tr>\n      <th>270</th>\n      <td>M8Y</td>\n      <td>Etobicoke</td>\n      <td>Mimico NE</td>\n    </tr>\n    <tr>\n      <th>271</th>\n      <td>M8Y</td>\n      <td>Etobicoke</td>\n      <td>Old Mill South</td>\n    </tr>\n    <tr>\n      <th>272</th>\n      <td>M8Y</td>\n      <td>Etobicoke</td>\n      <td>The Queensway East</td>\n    </tr>\n    <tr>\n      <th>273</th>\n      <td>M8Y</td>\n      <td>Etobicoke</td>\n      <td>Royal York South East</td>\n    </tr>\n    <tr>\n      <th>274</th>\n      <td>M8Y</td>\n      <td>Etobicoke</td>\n      <td>Sunnylea</td>\n    </tr>\n    <tr>\n      <th>275</th>\n      <td>M9Y</td>\n      <td>Not assigned</td>\n      <td>Not assigned</td>\n    </tr>\n    <tr>\n      <th>276</th>\n      <td>M1Z</td>\n      <td>Not assigned</td>\n      <td>Not assigned</td>\n    </tr>\n    <tr>\n      <th>277</th>\n      <td>M2Z</td>\n      <td>Not assigned</td>\n      <td>Not assigned</td>\n    </tr>\n    <tr>\n      <th>278</th>\n      <td>M3Z</td>\n      <td>Not assigned</td>\n      <td>Not assigned</td>\n    </tr>\n    <tr>\n      <th>279</th>\n      <td>M4Z</td>\n      <td>Not assigned</td>\n      <td>Not assigned</td>\n    </tr>\n    <tr>\n      <th>280</th>\n      <td>M5Z</td>\n      <td>Not assigned</td>\n      <td>Not assigned</td>\n    </tr>\n    <tr>\n      <th>281</th>\n      <td>M6Z</td>\n      <td>Not assigned</td>\n      <td>Not assigned</td>\n    </tr>\n    <tr>\n      <th>282</th>\n      <td>M7Z</td>\n      <td>Not assigned</td>\n      <td>Not assigned</td>\n    </tr>\n    <tr>\n      <th>283</th>\n      <td>M8Z</td>\n      <td>Etobicoke</td>\n      <td>Kingsway Park South West</td>\n    </tr>\n    <tr>\n      <th>284</th>\n      <td>M8Z</td>\n      <td>Etobicoke</td>\n      <td>Mimico NW</td>\n    </tr>\n    <tr>\n      <th>285</th>\n      <td>M8Z</td>\n      <td>Etobicoke</td>\n      <td>The Queensway West</td>\n    </tr>\n    <tr>\n      <th>286</th>\n      <td>M8Z</td>\n      <td>Etobicoke</td>\n      <td>Royal York South West</td>\n    </tr>\n    <tr>\n      <th>287</th>\n      <td>M8Z</td>\n      <td>Etobicoke</td>\n      <td>South of Bloor</td>\n    </tr>\n    <tr>\n      <th>288</th>\n      <td>M9Z</td>\n      <td>Not assigned</td>\n      <td>Not assigned</td>\n    </tr>\n  </tbody>\n</table>\n<p>289 rows \u00d7 3 columns</p>\n</div>", 
                        "text/plain": "    Postcode           Borough  \\\n0        M1A      Not assigned   \n1        M2A      Not assigned   \n2        M3A        North York   \n3        M4A        North York   \n4        M5A  Downtown Toronto   \n5        M5A  Downtown Toronto   \n6        M6A        North York   \n7        M6A        North York   \n8        M7A      Queen's Park   \n9        M8A      Not assigned   \n10       M9A         Etobicoke   \n11       M1B       Scarborough   \n12       M1B       Scarborough   \n13       M2B      Not assigned   \n14       M3B        North York   \n15       M4B         East York   \n16       M4B         East York   \n17       M5B  Downtown Toronto   \n18       M5B  Downtown Toronto   \n19       M6B        North York   \n20       M7B      Not assigned   \n21       M8B      Not assigned   \n22       M9B         Etobicoke   \n23       M9B         Etobicoke   \n24       M9B         Etobicoke   \n25       M9B         Etobicoke   \n26       M9B         Etobicoke   \n27       M1C       Scarborough   \n28       M1C       Scarborough   \n29       M1C       Scarborough   \n..       ...               ...   \n259      M9X      Not assigned   \n260      M1Y      Not assigned   \n261      M2Y      Not assigned   \n262      M3Y      Not assigned   \n263      M4Y  Downtown Toronto   \n264      M5Y      Not assigned   \n265      M6Y      Not assigned   \n266      M7Y      East Toronto   \n267      M8Y         Etobicoke   \n268      M8Y         Etobicoke   \n269      M8Y         Etobicoke   \n270      M8Y         Etobicoke   \n271      M8Y         Etobicoke   \n272      M8Y         Etobicoke   \n273      M8Y         Etobicoke   \n274      M8Y         Etobicoke   \n275      M9Y      Not assigned   \n276      M1Z      Not assigned   \n277      M2Z      Not assigned   \n278      M3Z      Not assigned   \n279      M4Z      Not assigned   \n280      M5Z      Not assigned   \n281      M6Z      Not assigned   \n282      M7Z      Not assigned   \n283      M8Z         Etobicoke   \n284      M8Z         Etobicoke   \n285      M8Z         Etobicoke   \n286      M8Z         Etobicoke   \n287      M8Z         Etobicoke   \n288      M9Z      Not assigned   \n\n                                         Neighborhood  \n0                                        Not assigned  \n1                                        Not assigned  \n2                                           Parkwoods  \n3                                    Victoria Village  \n4                                        Harbourfront  \n5                                         Regent Park  \n6                                    Lawrence Heights  \n7                                      Lawrence Manor  \n8                                        Not assigned  \n9                                        Not assigned  \n10                                   Islington Avenue  \n11                                              Rouge  \n12                                            Malvern  \n13                                       Not assigned  \n14                                    Don Mills North  \n15                                   Woodbine Gardens  \n16                                      Parkview Hill  \n17                                            Ryerson  \n18                                    Garden District  \n19                                          Glencairn  \n20                                       Not assigned  \n21                                       Not assigned  \n22                                         Cloverdale  \n23                                          Islington  \n24                                       Martin Grove  \n25                                   Princess Gardens  \n26                                    West Deane Park  \n27                                     Highland Creek  \n28                                         Rouge Hill  \n29                                         Port Union  \n..                                                ...  \n259                                      Not assigned  \n260                                      Not assigned  \n261                                      Not assigned  \n262                                      Not assigned  \n263                              Church and Wellesley  \n264                                      Not assigned  \n265                                      Not assigned  \n266  Business reply mail Processing Centre969 Eastern  \n267                                        Humber Bay  \n268                                  King's Mill Park  \n269                          Kingsway Park South East  \n270                                         Mimico NE  \n271                                    Old Mill South  \n272                                The Queensway East  \n273                             Royal York South East  \n274                                          Sunnylea  \n275                                      Not assigned  \n276                                      Not assigned  \n277                                      Not assigned  \n278                                      Not assigned  \n279                                      Not assigned  \n280                                      Not assigned  \n281                                      Not assigned  \n282                                      Not assigned  \n283                          Kingsway Park South West  \n284                                         Mimico NW  \n285                                The Queensway West  \n286                             Royal York South West  \n287                                    South of Bloor  \n288                                      Not assigned  \n\n[289 rows x 3 columns]"
                    }, 
                    "output_type": "execute_result"
                }
            ], 
            "source": "can_zipinfo = soup.find('table') #will get the table by finding the table tag\ncol_values = can_zipinfo.find_all('td') #get the values from the td sub elements under the table tag.\n\nelem_cnt = len(col_values)\n\npostcode = []\nborough = []\nneighborhood = []\n\nfor i in range(0, elem_cnt, 3):\n    postcode.append(col_values[i].text.strip())\n    borough.append(col_values[i+1].text.strip())\n    neighborhood.append(col_values[i+2].text.strip())\ndf_can_postcode = pd.DataFrame(data=[postcode, borough, neighborhood]).transpose()\ndf_can_postcode.columns = ['Postcode', 'Borough', 'Neighborhood']\ndf_can_postcode"
        }, 
        {
            "source": "Ignoring the Not assigned values in the neightourhood column", 
            "cell_type": "markdown", 
            "metadata": {}
        }, 
        {
            "execution_count": 12, 
            "cell_type": "code", 
            "metadata": {}, 
            "outputs": [
                {
                    "execution_count": 12, 
                    "metadata": {}, 
                    "data": {
                        "text/html": "<div>\n<style scoped>\n    .dataframe tbody tr th:only-of-type {\n        vertical-align: middle;\n    }\n\n    .dataframe tbody tr th {\n        vertical-align: top;\n    }\n\n    .dataframe thead th {\n        text-align: right;\n    }\n</style>\n<table border=\"1\" class=\"dataframe\">\n  <thead>\n    <tr style=\"text-align: right;\">\n      <th></th>\n      <th>Postcode</th>\n      <th>Borough</th>\n      <th>Neighborhood</th>\n    </tr>\n  </thead>\n  <tbody>\n    <tr>\n      <th>2</th>\n      <td>M3A</td>\n      <td>North York</td>\n      <td>Parkwoods</td>\n    </tr>\n    <tr>\n      <th>3</th>\n      <td>M4A</td>\n      <td>North York</td>\n      <td>Victoria Village</td>\n    </tr>\n    <tr>\n      <th>4</th>\n      <td>M5A</td>\n      <td>Downtown Toronto</td>\n      <td>Harbourfront</td>\n    </tr>\n    <tr>\n      <th>5</th>\n      <td>M5A</td>\n      <td>Downtown Toronto</td>\n      <td>Regent Park</td>\n    </tr>\n    <tr>\n      <th>6</th>\n      <td>M6A</td>\n      <td>North York</td>\n      <td>Lawrence Heights</td>\n    </tr>\n  </tbody>\n</table>\n</div>", 
                        "text/plain": "  Postcode           Borough      Neighborhood\n2      M3A        North York         Parkwoods\n3      M4A        North York  Victoria Village\n4      M5A  Downtown Toronto      Harbourfront\n5      M5A  Downtown Toronto       Regent Park\n6      M6A        North York  Lawrence Heights"
                    }, 
                    "output_type": "execute_result"
                }
            ], 
            "source": "df_can_postcode.drop(df_can_postcode[df_can_postcode['Borough'] == 'Not assigned'].index, inplace=True)\ndf_can_postcode.loc[df_can_postcode.Neighborhood == 'Not assigned', \"Neighborhood\"] = df_can_postcode.Borough\ndf_can_postcode.head()"
        }, 
        {
            "source": "Grouping the Data ", 
            "cell_type": "markdown", 
            "metadata": {}
        }, 
        {
            "execution_count": 13, 
            "cell_type": "code", 
            "metadata": {}, 
            "outputs": [], 
            "source": "df_group_can = df_can_postcode.groupby(['Postcode', 'Borough'])['Neighborhood'].apply(', '.join).reset_index()\ndf_group_can.columns = ['Postcode', 'Borough', 'Neighborhood']"
        }, 
        {
            "execution_count": null, 
            "cell_type": "code", 
            "metadata": {}, 
            "outputs": [], 
            "source": ""
        }
    ], 
    "metadata": {
        "kernelspec": {
            "display_name": "Python 3.5", 
            "name": "python3", 
            "language": "python"
        }, 
        "language_info": {
            "mimetype": "text/x-python", 
            "nbconvert_exporter": "python", 
            "version": "3.5.5", 
            "name": "python", 
            "file_extension": ".py", 
            "pygments_lexer": "ipython3", 
            "codemirror_mode": {
                "version": 3, 
                "name": "ipython"
            }
        }
    }, 
    "nbformat": 4
}