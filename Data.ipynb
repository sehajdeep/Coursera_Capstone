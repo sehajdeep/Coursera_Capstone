{
    "nbformat_minor": 1, 
    "cells": [
        {
            "source": "#### Data:", 
            "cell_type": "markdown", 
            "metadata": {
                "collapsed": true
            }
        }, 
        {
            "source": "This project would use Four-square API as its prime data gathering source. This API provides the ability to perform location search, location sharing and details about a business. Foursquare users can also use photos, tips and reviews in many productive ways to add value to the results. Using this data we will cluster on the basis of factors like most visited places, most pocket friendly places and easy public transport access. I wish to majorly wxplore the city of Winnipeg in Manitoba. Majorly will be using Foresquare API to look for nearby popular places around colleges as well as university. These places will have the potential to be converted to a resedential place or can act as an refference point for someone who is looking for pocket friendly but at the same time famous places around their place of reci", 
            "cell_type": "markdown", 
            "metadata": {}
        }, 
        {
            "execution_count": null, 
            "cell_type": "code", 
            "metadata": {}, 
            "outputs": [], 
            "source": ""
        }
    ], 
    "metadata": {
        "kernelspec": {
            "display_name": "Python 3.5", 
            "name": "python3", 
            "language": "python"
        }, 
        "language_info": {
            "mimetype": "text/x-python", 
            "nbconvert_exporter": "python", 
            "version": "3.5.5", 
            "name": "python", 
            "file_extension": ".py", 
            "pygments_lexer": "ipython3", 
            "codemirror_mode": {
                "version": 3, 
                "name": "ipython"
            }
        }
    }, 
    "nbformat": 4
}