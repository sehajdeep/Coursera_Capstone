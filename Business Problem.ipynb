{
    "nbformat_minor": 1, 
    "cells": [
        {
            "source": "#   Battle of Neighbourhoods\n", 
            "cell_type": "markdown", 
            "metadata": {
                "collapsed": true
            }
        }, 
        {
            "source": "#### Project Description :", 
            "cell_type": "markdown", 
            "metadata": {}
        }, 
        {
            "source": "As an international student it is not easy to simply move to another country and settle there. Given so many constraints during the student life, it becomes really important to cut down living cost. For achieveing the same students must have enough information about how to make most of thier time around their College or University. There can be a number of factors which one may want to cosider while chosing the residence.\nI wish to help the user save his/her time as well as money by avoiding searching for such localities manually but using this project.\nThis project can be used by the user at the time of rental apartment or buy house in a locality based on the distribution of various facilities available around the neighborhood. This project uses K-mean clustering unsupervised machine learning algorithm to cluster the venues based on the place category such as gym, clubs, restaurants, park, coffee shop, etc. This would give a better understanding of the similarities and dissimilarities between the two chosen neighborhoods to retrieve more insights and to conclude with ease which neighborhood wins over other.", 
            "cell_type": "markdown", 
            "metadata": {}
        }, 
        {
            "source": "#### Intended users:", 
            "cell_type": "markdown", 
            "metadata": {}
        }, 
        {
            "source": "Inernational Students, expats or anyone planning to relocate to a different country.", 
            "cell_type": "markdown", 
            "metadata": {}
        }, 
        {
            "source": "#### Data:", 
            "cell_type": "markdown", 
            "metadata": {}
        }, 
        {
            "source": "This project would use Four-square API as its prime data gathering source. This API provides the ability to perform location search, location sharing and details about a business. Foursquare users can also use photos, tips and reviews in many productive ways to add value to the results. Using this data we will cluster on the basis of factors like most visited places, most pocket friendly places and easy public transport access.", 
            "cell_type": "markdown", 
            "metadata": {}
        }, 
        {
            "source": "", 
            "cell_type": "markdown", 
            "metadata": {}
        }, 
        {
            "execution_count": null, 
            "cell_type": "code", 
            "metadata": {}, 
            "outputs": [], 
            "source": ""
        }
    ], 
    "metadata": {
        "kernelspec": {
            "display_name": "Python 3.5", 
            "name": "python3", 
            "language": "python"
        }, 
        "language_info": {
            "mimetype": "text/x-python", 
            "nbconvert_exporter": "python", 
            "version": "3.5.5", 
            "name": "python", 
            "file_extension": ".py", 
            "pygments_lexer": "ipython3", 
            "codemirror_mode": {
                "version": 3, 
                "name": "ipython"
            }
        }
    }, 
    "nbformat": 4
}